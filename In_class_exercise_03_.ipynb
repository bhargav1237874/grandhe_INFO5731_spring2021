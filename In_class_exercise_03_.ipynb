{
  "nbformat": 4,
  "nbformat_minor": 0,
  "metadata": {
    "kernelspec": {
      "display_name": "Python 3",
      "language": "python",
      "name": "python3"
    },
    "language_info": {
      "codemirror_mode": {
        "name": "ipython",
        "version": 3
      },
      "file_extension": ".py",
      "mimetype": "text/x-python",
      "name": "python",
      "nbconvert_exporter": "python",
      "pygments_lexer": "ipython3",
      "version": "3.7.4"
    },
    "colab": {
      "name": "In-class-exercise-03..ipynb",
      "provenance": [],
      "collapsed_sections": [],
      "include_colab_link": true
    }
  },
  "cells": [
    {
      "cell_type": "markdown",
      "metadata": {
        "id": "view-in-github",
        "colab_type": "text"
      },
      "source": [
        "<a href=\"https://colab.research.google.com/github/bhargav1237874/grandhe_INFO5731_spring2021/blob/main/In_class_exercise_03_.ipynb\" target=\"_parent\"><img src=\"https://colab.research.google.com/assets/colab-badge.svg\" alt=\"Open In Colab\"/></a>"
      ]
    },
    {
      "cell_type": "markdown",
      "metadata": {
        "id": "-sc_jCc3jmFl"
      },
      "source": [
        "## The third In-class-exercise (9/16/2020, 20 points in total)"
      ]
    },
    {
      "cell_type": "markdown",
      "metadata": {
        "id": "1SB3iCZgjmFn"
      },
      "source": [
        "The purpose of this exercise is to under users' information needs, then collect the data for analysis."
      ]
    },
    {
      "cell_type": "markdown",
      "metadata": {
        "id": "kFgpd5y-jmFo"
      },
      "source": [
        "Question 1 (8 points): Describe an interesting research question (or practical question) you have in mind, what kind of data should be collected to answer the question(s)? How many data needed for the analysis? The detail steps for collecting and save the data. "
      ]
    },
    {
      "cell_type": "code",
      "metadata": {
        "id": "s49oMHFojmFo"
      },
      "source": [
        "# The data is related to all countries, capital cities and their population  across different regions. "
      ],
      "execution_count": 43,
      "outputs": []
    },
    {
      "cell_type": "markdown",
      "metadata": {
        "id": "UkATf6G_jmFo"
      },
      "source": [
        "Question 2 (12 points): Write python code to collect 500 items of the data you plan to collect above."
      ]
    },
    {
      "cell_type": "code",
      "metadata": {
        "colab": {
          "base_uri": "https://localhost:8080/"
        },
        "id": "-IdHi6tOjmFp",
        "outputId": "307e68b8-5556-48f2-800d-bf893b3d7ee4"
      },
      "source": [
        "import urllib.request\n",
        "from bs4 import BeautifulSoup\n",
        "\n",
        "\n",
        "with urllib.request.urlopen(\"https://www.worlddata.info/capital-cities.php\") as p:\n",
        "  webpage=p.read()\n",
        "  k=BeautifulSoup(webpage)\n",
        "\n",
        "all_table=k.find_all('table')\n",
        "right_table=k.find('table', class_='std100 hover')\n",
        "\n",
        "all_data = []\n",
        "\n",
        "for row in right_table.find_all('tr'):\n",
        "  cells=row.find_all('td')\n",
        "  if len(cells)==3:\n",
        "    item=[]\n",
        "    item.append(cells[0].find(text=True).strip(\"\\n\"))\n",
        "    item.append(cells[1].find(text=True).strip(\"\\n\"))\n",
        "    item.append(cells[2].find(text=True).strip(\"\\n\"))\n",
        "    all_data.append(item)\n",
        "print(all_data)"
      ],
      "execution_count": 43,
      "outputs": [
        {
          "output_type": "stream",
          "text": [
            "[['Åland Islands', 'Mariehamn', '11,709'], ['Albania', 'Tirana', '418,495'], ['Andorra', 'Andorra la Vella', '22,205'], ['Austria', 'Vienna', '1,897,491'], ['Belarus', 'Minsk', '1,982,444'], ['Belgium', 'Brussels', '1,175,173'], ['Bosnia and Herzegovina', 'Sarajevo', '275,524'], ['Bulgaria', 'Sofia', '1,241,675'], ['Croatia', 'Zagreb', '792,875'], ['Czechia', 'Prague', '1,301,132'], ['Denmark', 'Copenhagen', '616,098'], ['Estonia', 'Tallinn', '430,805'], ['Faroe Islands', 'Tórshavn', '13,408'], ['Finland', 'Helsinki', '639,227'], ['France', 'Paris', '2,206,488'], ['Germany', 'Berlin', '3,644,826'], ['Gibraltar', 'Gibraltar', '34,003'], ['Greece', 'Athens', '664,046'], ['Guernsey', 'Saint Peter Port', '18,958'], ['Hungary', 'Budapest', '1,751,219'], ['Iceland', 'Reykjavík', '124,644'], ['Ireland', 'Dublin', '553,165'], ['Isle of Man', 'Douglas', '27,938'], ['Italy', 'Rome', '2,873,147'], ['Jersey', 'Saint Helier', '33,500'], ['Kosovo', 'Pristina', '211,129'], ['Latvia', 'Riga', '632,614'], ['Liechtenstein', 'Vaduz', '5,668'], ['Lithuania', 'Vilnius', '546,382'], ['Luxembourg', 'Luxembourg', '119,215'], ['Malta', 'Valletta', '5,735'], ['Moldova', 'Chisinau', '339,079'], ['Monaco', 'Monaco', '37,308'], ['Montenegro', 'Podgorica', '187,085'], ['Netherlands', 'Amsterdam', '864,217'], ['North Macedonia', 'Skopje', '546,824'], ['Norway', 'Oslo', '681,067'], ['Poland', 'Warsaw', '1,764,615'], ['Portugal', 'Lisbon', '505,526'], ['Romania', 'Bucharest', '1,829,897'], ['Russia', 'Moscow', '13,197,596'], ['San Marino', 'San Marino', '4,127'], ['Serbia', 'Belgrade', '1,378,682'], ['Slovakia', 'Bratislava', '427,744'], ['Slovenia', 'Ljubljana', '279,650'], ['Spain', 'Madrid', '3,182,981'], ['Svalbard', 'Longyearbyen', '2,144'], ['Sweden', 'Stockholm', '935,619'], ['Switzerland', 'Bern', '133,883'], ['Ukraine', 'Kiev', '2,893,215'], ['United Kingdom', 'London', '8,673,713']]\n"
          ],
          "name": "stdout"
        }
      ]
    },
    {
      "cell_type": "markdown",
      "metadata": {
        "id": "JPxKPLV8cNGI"
      },
      "source": [
        ""
      ]
    },
    {
      "cell_type": "code",
      "metadata": {
        "id": "-WbiWSwILj3F"
      },
      "source": [
        ""
      ],
      "execution_count": 35,
      "outputs": []
    }
  ]
}