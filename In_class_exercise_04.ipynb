{
  "nbformat": 4,
  "nbformat_minor": 0,
  "metadata": {
    "colab": {
      "name": "In_class_exercise_04.ipynb",
      "provenance": [],
      "collapsed_sections": [],
      "include_colab_link": true
    },
    "kernelspec": {
      "display_name": "Python 3",
      "language": "python",
      "name": "python3"
    },
    "language_info": {
      "codemirror_mode": {
        "name": "ipython",
        "version": 3
      },
      "file_extension": ".py",
      "mimetype": "text/x-python",
      "name": "python",
      "nbconvert_exporter": "python",
      "pygments_lexer": "ipython3",
      "version": "3.8.5"
    }
  },
  "cells": [
    {
      "cell_type": "markdown",
      "metadata": {
        "id": "view-in-github",
        "colab_type": "text"
      },
      "source": [
        "<a href=\"https://colab.research.google.com/github/bhargav1237874/grandhe_INFO5731_spring2021/blob/main/In_class_exercise_04.ipynb\" target=\"_parent\"><img src=\"https://colab.research.google.com/assets/colab-badge.svg\" alt=\"Open In Colab\"/></a>"
      ]
    },
    {
      "cell_type": "markdown",
      "metadata": {
        "id": "EuX00KHNeSpw"
      },
      "source": [
        "# **The fourth in-class-exercise (20 points in total, 2/9/2021)**"
      ]
    },
    {
      "cell_type": "markdown",
      "metadata": {
        "id": "s-vTOb03hG1f"
      },
      "source": [
        "# 1. Text Data Preprocessing\n",
        "\n",
        "Here is a [legal case](https://github.com/unt-iialab/info5731_spring2021/blob/main/class_exercises/01-05-1%20%20Adams%20v%20Tanner.txt) we collected from westlaw, please follow the steps we mentioned in lesson 5 to clean the data:\n",
        "\n",
        "\n",
        "\n",
        "## 1.1 Basic feature extraction using text data (4 points)\n",
        "\n",
        "*   Number of sentences\n",
        "*   Number of words\n",
        "*   Number of characters\n",
        "*   Average word length\n",
        "*   Number of stopwords\n",
        "*   Number of special characters\n",
        "*   Number of numerics\n",
        "*   Number of uppercase words\n",
        "\n",
        "## 1.2 Basic Text Pre-processing of text data (4 points)\n",
        "\n",
        "*   Lower casing\n",
        "*   Punctuation removal\n",
        "*   Stopwords removal\n",
        "*   Frequent words removal\n",
        "*   Rare words removal\n",
        "*   Spelling correction\n",
        "*   Tokenization\n",
        "*   Stemming\n",
        "*   Lemmatization\n",
        "\n",
        "## 1.3 Save all the **clean sentences** to a **csv file** (one column, each raw is a sentence) after finishing all the steps above. (4 points)\n",
        "\n",
        "\n",
        "## 1.4 Advance Text Processing (Extra credit: 4 points)\n",
        "\n",
        "*   Calculate the term frequency of all the terms.\n",
        "*   Print out top 10 1-gram, top 10 2-grams, and top 10 3-grams terms as features.\n"
      ]
    },
    {
      "cell_type": "code",
      "metadata": {
        "colab": {
          "base_uri": "https://localhost:8080/"
        },
        "id": "psdP7t79wmPj",
        "outputId": "28e46677-da00-4f94-f53f-e01bc7e19ce4"
      },
      "source": [
        "#1.1 ****************************************************************\r\n",
        "with open('legal_notes.txt', 'r') as file:\r\n",
        "    file_contents = file.read()\r\n",
        "    words=file_contents.split()\r\n",
        "    print('Number of sentences:', file_contents.count('.'))\r\n",
        "    print('Number of words:', len(words))\r\n",
        "    print(\"Number of charachters:\", len(file_contents))\r\n",
        "    count=0\r\n",
        "    for i in words:\r\n",
        "      count=count+len(i)\r\n",
        "    print(\"Average word lenght:\",count/len(words))\r\n",
        "\r\n",
        "from nltk.corpus import stopwords\r\n",
        "import nltk\r\n",
        "nltk.download(\"stopwords\")\r\n",
        "stop=stopwords.words(\"english\")\r\n",
        "print(stop)\r\n",
        "stopwordcount=0\r\n",
        "for i in words:\r\n",
        "  if i in stop:\r\n",
        "    stopwordcount=stopwordcount+1\r\n",
        "print(\"Number of stopwords\",stopwordcount)\r\n",
        "specialcharachter=['$','#','(',')','\"','@','?','*','!','%','^','&']\r\n",
        "specialcount=0\r\n",
        "for i in file_contents:\r\n",
        "  if i in specialcharachter:\r\n",
        "    specialcount=specialcount+1\r\n",
        "print(\"Number of special charachters\",specialcount)\r\n",
        "numbercount=0\r\n",
        "for i in file_contents:\r\n",
        "  if i.isdigit():\r\n",
        "    numbercount=numbercount+1\r\n",
        "print(\"Number of numberics\",numbercount)\r\n",
        "uppercount=0\r\n",
        "for i in file_contents:\r\n",
        "  if i.isupper():\r\n",
        "    uppercount=uppercount+1\r\n",
        "print(\"Number of uppercase words\",uppercount)\r\n",
        "\r\n",
        "\r\n",
        "\r\n",
        "\r\n",
        "\r\n",
        "#1.2***************************************************************\r\n",
        "\r\n",
        "import pandas as pd\r\n",
        "import nltk\r\n",
        "nltk.download('punkt')\r\n",
        "from nltk.tokenize import sent_tokenize, word_tokenize\r\n",
        "textcontent=nltk.tokenize.sent_tokenize(file_contents)\r\n",
        "\r\n",
        "n={'content':textcontent}\r\n",
        "df=pd.DataFrame(data=n)\r\n",
        "df['content'] = df['content'].apply(lambda x: \" \".join(x.lower() for x in x.split()))\r\n",
        "print(\"lower casing\",df['content'].head())\r\n",
        "df['content'] = df['content'].str.replace('[^\\w\\s]','')\r\n",
        "print(\"punctuaion removal\",df['content'].head())\r\n",
        "df['content'] = df['content'].apply(lambda x: \" \".join(x for x in x.split() if x not in stop))\r\n",
        "print(\"stopwords removal\",df['content'].head())\r\n",
        "\r\n",
        "freq=pd.Series(' '.join(df['content']).split()).value_counts()[:10]\r\n",
        "freq=list(freq.index)\r\n",
        "df['content']=df['content'].apply(lambda x: \" \".join(x for x in x.split() if x not in freq))\r\n",
        "print(\"frequent words removal\",df['content'].head())\r\n",
        "freq_lower = pd.Series(' '.join(df['content']).split()).value_counts()[-10:]\r\n",
        "freq_lower=list(freq_lower.index)\r\n",
        "df['content'] = df['content'].apply(lambda x: \" \".join(x for x in x.split() if x not in freq_lower))\r\n",
        "print(\"rare words removal\",df['content'].head())\r\n",
        "from textblob import TextBlob\r\n",
        "df['content'][:5].apply(lambda x: str(TextBlob(x).correct()))\r\n",
        "print(\"spelling correction\",df['content'].head())\r\n",
        "print(\"Tokenization\",TextBlob(df['content'][1]).words)\r\n",
        "from nltk.stem import PorterStemmer\r\n",
        "st = PorterStemmer()\r\n",
        "print(\"stemming\",df['content'][:5].apply(lambda x: \" \".join([st.stem(word) for word in x.split()])))\r\n",
        "from textblob import Word\r\n",
        "import nltk\r\n",
        "nltk.download('wordnet')\r\n",
        "\r\n",
        "df['content'] = df['content'].apply(lambda x: \" \".join([Word(word).lemmatize() for word in x.split()]))\r\n",
        "print(\"lemmeatiaztion\",df['content'].head())\r\n",
        "\r\n",
        "\r\n",
        "\r\n",
        "\r\n",
        "\r\n",
        "#1.3*************************************************************\r\n",
        "\r\n",
        "df.to_csv('out_csv.csv',index=False)\r\n",
        "\r\n",
        "\r\n",
        "\r\n",
        "\r\n",
        "\r\n",
        "\r\n",
        "#1.4**************************************************************\r\n",
        "\r\n",
        "termfrequency=(df['content'][1:2]).apply(lambda x:pd.value_counts(x.split(\" \"))).sum(axis=0).reset_index()\r\n",
        "termfrequency.columns=['words','tf']\r\n",
        "print(termfrequency)\r\n",
        "print(TextBlob(df['content'][0]).ngrams(1))\r\n",
        "print(TextBlob(df['content'][0]).ngrams(2))\r\n",
        "print(TextBlob(df['content'][0]).ngrams(3))\r\n"
      ],
      "execution_count": 48,
      "outputs": [
        {
          "output_type": "stream",
          "text": [
            "Number of sentences: 291\n",
            "Number of words: 3707\n",
            "Number of charachters: 20453\n",
            "Average word lenght: 4.510385756676558\n",
            "[nltk_data] Downloading package stopwords to /root/nltk_data...\n",
            "[nltk_data]   Unzipping corpora/stopwords.zip.\n",
            "['i', 'me', 'my', 'myself', 'we', 'our', 'ours', 'ourselves', 'you', \"you're\", \"you've\", \"you'll\", \"you'd\", 'your', 'yours', 'yourself', 'yourselves', 'he', 'him', 'his', 'himself', 'she', \"she's\", 'her', 'hers', 'herself', 'it', \"it's\", 'its', 'itself', 'they', 'them', 'their', 'theirs', 'themselves', 'what', 'which', 'who', 'whom', 'this', 'that', \"that'll\", 'these', 'those', 'am', 'is', 'are', 'was', 'were', 'be', 'been', 'being', 'have', 'has', 'had', 'having', 'do', 'does', 'did', 'doing', 'a', 'an', 'the', 'and', 'but', 'if', 'or', 'because', 'as', 'until', 'while', 'of', 'at', 'by', 'for', 'with', 'about', 'against', 'between', 'into', 'through', 'during', 'before', 'after', 'above', 'below', 'to', 'from', 'up', 'down', 'in', 'out', 'on', 'off', 'over', 'under', 'again', 'further', 'then', 'once', 'here', 'there', 'when', 'where', 'why', 'how', 'all', 'any', 'both', 'each', 'few', 'more', 'most', 'other', 'some', 'such', 'no', 'nor', 'not', 'only', 'own', 'same', 'so', 'than', 'too', 'very', 's', 't', 'can', 'will', 'just', 'don', \"don't\", 'should', \"should've\", 'now', 'd', 'll', 'm', 'o', 're', 've', 'y', 'ain', 'aren', \"aren't\", 'couldn', \"couldn't\", 'didn', \"didn't\", 'doesn', \"doesn't\", 'hadn', \"hadn't\", 'hasn', \"hasn't\", 'haven', \"haven't\", 'isn', \"isn't\", 'ma', 'mightn', \"mightn't\", 'mustn', \"mustn't\", 'needn', \"needn't\", 'shan', \"shan't\", 'shouldn', \"shouldn't\", 'wasn', \"wasn't\", 'weren', \"weren't\", 'won', \"won't\", 'wouldn', \"wouldn't\"]\n",
            "Number of stopwords 1679\n",
            "Number of special charachters 43\n",
            "Number of numberics 356\n",
            "Number of uppercase words 695\n",
            "[nltk_data] Downloading package punkt to /root/nltk_data...\n",
            "[nltk_data]   Unzipping tokenizers/punkt.zip.\n",
            "lower casing 0                 5 ala. 740 supreme court of alabama.\n",
            "1                          adams v. tanner and horton.\n",
            "2                                     june term, 1843.\n",
            "3    synopsis writ of error to the circuit court of...\n",
            "4    west headnotes (2) [1] chattel mortgages crops...\n",
            "Name: content, dtype: object\n",
            "punctuaion removal 0                   5 ala 740 supreme court of alabama\n",
            "1                            adams v tanner and horton\n",
            "2                                       june term 1843\n",
            "3    synopsis writ of error to the circuit court of...\n",
            "4    west headnotes 2 1 chattel mortgages crops a g...\n",
            "Name: content, dtype: object\n",
            "stopwords removal 0                      5 ala 740 supreme court alabama\n",
            "1                                adams v tanner horton\n",
            "2                                       june term 1843\n",
            "3             synopsis writ error circuit court sumter\n",
            "4    west headnotes 2 1 chattel mortgages crops gro...\n",
            "Name: content, dtype: object\n",
            "frequent words removal 0                            5 ala 740 supreme alabama\n",
            "1                                  adams tanner horton\n",
            "2                                       june term 1843\n",
            "3                   synopsis writ error circuit sumter\n",
            "4    west headnotes 2 1 chattel mortgages crops gro...\n",
            "Name: content, dtype: object\n",
            "rare words removal 0                            5 ala 740 supreme alabama\n",
            "1                                  adams tanner horton\n",
            "2                                       june term 1843\n",
            "3                   synopsis writ error circuit sumter\n",
            "4    west headnotes 2 1 chattel mortgages crops gro...\n",
            "Name: content, dtype: object\n",
            "spelling correction 0                            5 ala 740 supreme alabama\n",
            "1                                  adams tanner horton\n",
            "2                                       june term 1843\n",
            "3                   synopsis writ error circuit sumter\n",
            "4    west headnotes 2 1 chattel mortgages crops gro...\n",
            "Name: content, dtype: object\n",
            "Tokenization ['adams', 'tanner', 'horton']\n",
            "stemming 0                             5 ala 740 suprem alabama\n",
            "1                                   adam tanner horton\n",
            "2                                       june term 1843\n",
            "3                    synopsi writ error circuit sumter\n",
            "4    west headnot 2 1 chattel mortgag crop grow exi...\n",
            "Name: content, dtype: object\n",
            "[nltk_data] Downloading package wordnet to /root/nltk_data...\n",
            "[nltk_data]   Unzipping corpora/wordnet.zip.\n",
            "lemmeatiaztion 0                            5 ala 740 supreme alabama\n",
            "1                                   adam tanner horton\n",
            "2                                       june term 1843\n",
            "3                   synopsis writ error circuit sumter\n",
            "4    west headnotes 2 1 chattel mortgage crop growi...\n",
            "Name: content, dtype: object\n",
            "    words  tf\n",
            "0  horton   1\n",
            "1    adam   1\n",
            "2  tanner   1\n",
            "[WordList(['5']), WordList(['ala']), WordList(['740']), WordList(['supreme']), WordList(['alabama'])]\n",
            "[WordList(['5', 'ala']), WordList(['ala', '740']), WordList(['740', 'supreme']), WordList(['supreme', 'alabama'])]\n",
            "[WordList(['5', 'ala', '740']), WordList(['ala', '740', 'supreme']), WordList(['740', 'supreme', 'alabama'])]\n"
          ],
          "name": "stdout"
        }
      ]
    },
    {
      "cell_type": "markdown",
      "metadata": {
        "id": "BBiC4E_kefvV"
      },
      "source": [
        "# 2. Python Regular Expression"
      ]
    },
    {
      "cell_type": "markdown",
      "metadata": {
        "id": "Z1QJ-UwCenvN"
      },
      "source": [
        "## 2.1 Write a Python program to remove leading zeros from an IP address. (4 points)\n",
        "\n",
        "ip = \"260.08.094.109\""
      ]
    },
    {
      "cell_type": "code",
      "metadata": {
        "colab": {
          "base_uri": "https://localhost:8080/"
        },
        "id": "wSv6fVhOfFmv",
        "outputId": "46798dc5-8f9f-48af-80db-5f73c1414599"
      },
      "source": [
        "# Write your code here\n",
        "import re\n",
        "ip = \"260.08.094.109\"\n",
        "string = re.sub('\\.[0]*', '.', ip)\n",
        "print(string)\n",
        "\n",
        "\n",
        "\n"
      ],
      "execution_count": 3,
      "outputs": [
        {
          "output_type": "stream",
          "text": [
            "260.8.94.109\n"
          ],
          "name": "stdout"
        }
      ]
    },
    {
      "cell_type": "markdown",
      "metadata": {
        "id": "PXRjaHzrfKAy"
      },
      "source": [
        "## 2.2 Write a Python Program to extract all the years from the following sentence. (4 points)\n",
        "\n",
        "sentence = \"The 2010s were a dramatic decade, filled with ups and downs, more than 1000 stroies have happened. As the decade comes to a close, Insider took a look back at some of the biggest headline-grabbing stories, from 2010 to 2019. The result was 119 news stories that ranged from the heartwarming rescue of a Thai boys' soccer team from a flooded cave to the divisive election of President Donald Trump.\""
      ]
    },
    {
      "cell_type": "code",
      "metadata": {
        "colab": {
          "base_uri": "https://localhost:8080/"
        },
        "id": "7xdJpDx9gjbX",
        "outputId": "49efac24-5f3d-4497-b9bd-57634611d1d1"
      },
      "source": [
        "# Write your code here\r\n",
        "import re\r\n",
        "def extract_date(url):\r\n",
        "  years= re.findall(r'[\\d]{4}', url)\r\n",
        "  years[:] = [X for X in years if \"1000\" not in X]\r\n",
        "  return years \r\n",
        "sentence='The 2010s were a dramatic decade, filled with ups and downs, more than 1000 stroies have happened. As the decade comes to a close, Insider took a look back at some of the biggest headline-grabbing stories, from 2010 to 2019. The result was 119 news stories that ranged from the heartwarming rescue of a Thai boys soccer team from a flooded cave to the divisive election of President Donald Trump.'\r\n",
        "\r\n",
        "print(extract_date(sentence))\r\n"
      ],
      "execution_count": 53,
      "outputs": [
        {
          "output_type": "stream",
          "text": [
            "['2010', '2010', '2019']\n"
          ],
          "name": "stdout"
        }
      ]
    }
  ]
}