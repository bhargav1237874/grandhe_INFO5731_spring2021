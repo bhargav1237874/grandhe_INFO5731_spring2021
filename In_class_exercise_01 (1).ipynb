{
  "nbformat": 4,
  "nbformat_minor": 0,
  "metadata": {
    "colab": {
      "name": "In_class_exercise_01.ipynb",
      "provenance": [],
      "collapsed_sections": []
    },
    "kernelspec": {
      "display_name": "Python 3",
      "language": "python",
      "name": "python3"
    },
    "language_info": {
      "codemirror_mode": {
        "name": "ipython",
        "version": 3
      },
      "file_extension": ".py",
      "mimetype": "text/x-python",
      "name": "python",
      "nbconvert_exporter": "python",
      "pygments_lexer": "ipython3",
      "version": "3.7.4"
    }
  },
  "cells": [
    {
      "cell_type": "markdown",
      "metadata": {
        "id": "view-in-github"
      },
      "source": [
        "<a href=\"https://colab.research.google.com/github/unt-iialab/INFO5731_Spring2020/blob/master/In_class_exercise/In_class_exercise_01.ipynb\" target=\"_parent\"><img src=\"https://colab.research.google.com/assets/colab-badge.svg\" alt=\"Open In Colab\"/></a>"
      ]
    },
    {
      "cell_type": "markdown",
      "metadata": {
        "id": "DymRJbxDBCnf"
      },
      "source": [
        "# **The first In-class-exercise (9/2/2020, 20 points in total)**"
      ]
    },
    {
      "cell_type": "markdown",
      "metadata": {
        "id": "03jb4GZsBkBS"
      },
      "source": [
        "(1) Write a Python program to calculate the length of a string. (2 points)"
      ]
    },
    {
      "cell_type": "code",
      "metadata": {
        "colab": {
          "base_uri": "https://localhost:8080/"
        },
        "id": "YaGLbSHHB8Ej",
        "outputId": "0c49938c-4da7-4cbe-afb7-ab7d59acb2e0"
      },
      "source": [
        "# write your answer here\n",
        "k=input(\"enter any string: \")\n",
        "l=len(k)\n",
        "print(\"The length of the entered string is:\",l)"
      ],
      "execution_count": 4,
      "outputs": [
        {
          "output_type": "stream",
          "text": [
            "enter any string: grandhe\n",
            "The length of the entered string is: 7\n"
          ],
          "name": "stdout"
        }
      ]
    },
    {
      "cell_type": "markdown",
      "metadata": {
        "id": "jJDe71iLB616"
      },
      "source": [
        "(2) Write a Python program to count the number of characters in a string. (2 points)\n",
        "\n",
        "Sample String : 'google.com‘, \n",
        "\n",
        "Expected Result : {'o': 3, 'g': 2, '.': 1, 'e': 1, 'l': 1, 'm': 1, 'c': 1}"
      ]
    },
    {
      "cell_type": "code",
      "metadata": {
        "colab": {
          "base_uri": "https://localhost:8080/"
        },
        "id": "MtKskTzbCLaU",
        "outputId": "57ba3a40-34e7-457d-e4d1-d0c266b6de45"
      },
      "source": [
        "# write your answer here\n",
        "\n",
        "def char_count(string):\n",
        "  dict={}\n",
        "  for i in string:\n",
        "    n=dict.keys()\n",
        "    if i in n:\n",
        "      dict[i] += 1\n",
        "    else:\n",
        "      dict[i] = 1\n",
        "  return dict\n",
        "k=input(\"enter any string :\")\n",
        "char_count(k)\n",
        "\n",
        "\n"
      ],
      "execution_count": 33,
      "outputs": [
        {
          "output_type": "stream",
          "text": [
            "enter any string :goog\n"
          ],
          "name": "stdout"
        },
        {
          "output_type": "execute_result",
          "data": {
            "text/plain": [
              "{'g': 2, 'o': 2}"
            ]
          },
          "metadata": {
            "tags": []
          },
          "execution_count": 33
        }
      ]
    },
    {
      "cell_type": "markdown",
      "metadata": {
        "id": "55W9AMdXCSpV"
      },
      "source": [
        "(3) Write a Python program to sum all the items in a list. (2 points)"
      ]
    },
    {
      "cell_type": "code",
      "metadata": {
        "colab": {
          "base_uri": "https://localhost:8080/"
        },
        "id": "I57NXsauCec2",
        "outputId": "4aa93ec3-09f0-415f-e6a0-98c6f3886e4a"
      },
      "source": [
        "# write your answer here\n",
        "\n",
        "sum=0\n",
        "\n",
        "lis=[]\n",
        "k=int(input(\"enter total number of items to sum : \"))\n",
        "for i in range(1,k+1):\n",
        "  num=input()\n",
        "  lis.append(num)\n",
        "for m in range(0,len(lis)):\n",
        "  sum=sum + int(lis[m])\n",
        "print(\"total is\",sum)\n",
        "\n",
        "\n"
      ],
      "execution_count": 26,
      "outputs": [
        {
          "output_type": "stream",
          "text": [
            "enter total number of items to sum : 5\n",
            "5\n",
            "5\n",
            "5\n",
            "5\n",
            "5\n",
            "total is 25\n"
          ],
          "name": "stdout"
        }
      ]
    },
    {
      "cell_type": "markdown",
      "metadata": {
        "id": "4ulBZ6yhCi9F"
      },
      "source": [
        "(4) Write a Python program to get a string from a given string where all occurrences of its first char have been changed to '\\$', except the first char itself. (2 points)\n",
        "\n",
        "Sample String : 'restart‘, \n",
        "\n",
        "Expected Result : 'resta\\$t'"
      ]
    },
    {
      "cell_type": "code",
      "metadata": {
        "colab": {
          "base_uri": "https://localhost:8080/"
        },
        "id": "Fj0XhwbBCw2o",
        "outputId": "160f5638-d82d-4572-adbc-a869229c5bae"
      },
      "source": [
        "# write your answer here\n",
        "print(\"enter the string\")\n",
        "s=str(input())\n",
        "first=s[0]\n",
        "s=s.replace(first,\"$\")\n",
        "print(first+s[1:])"
      ],
      "execution_count": 28,
      "outputs": [
        {
          "output_type": "stream",
          "text": [
            "enter the string\n",
            "revert\n",
            "reve$t\n"
          ],
          "name": "stdout"
        }
      ]
    },
    {
      "cell_type": "markdown",
      "metadata": {
        "id": "_bIP7s1MCzue"
      },
      "source": [
        "(5) Write a program with python which could accept two parameter a and b to calculate and output the result of S, where \n",
        "\n",
        "$\\ S=3.14*(1+a/b)^3$ (3 points)\n",
        "\n"
      ]
    },
    {
      "cell_type": "code",
      "metadata": {
        "colab": {
          "base_uri": "https://localhost:8080/"
        },
        "id": "w79QilHXD3Mg",
        "outputId": "dd364939-b907-4953-81c4-0778a783dded"
      },
      "source": [
        "# write your answer here\n",
        "a=int(input(\"Enter a : \"))\n",
        "b=int(input(\"Enter b : \"))\n",
        " \n",
        "if (a > 0 and b > 0):\n",
        "  s=3.14*(1+a/b)**3\n",
        "else:\n",
        "  print(\"enter values greater than 0\")\n",
        "print(\"Value of s is :\",s)\n",
        "\n"
      ],
      "execution_count": 32,
      "outputs": [
        {
          "output_type": "stream",
          "text": [
            "Enter a : 5\n",
            "Enter b : 5\n",
            "Value of s is : 25.12\n"
          ],
          "name": "stdout"
        }
      ]
    },
    {
      "cell_type": "markdown",
      "metadata": {
        "id": "xCa2bK9aD4Q3"
      },
      "source": [
        "(6) Write a Python program to concatenate following dictionaries to create a new one. (3 points)\n",
        "\n",
        "Sample Dictionary : dic1={1:10, 2:20}, dic2={3:30, 4:40}, dic3={5:50,6:60}, \n",
        "\n",
        "Expected Result : {1: 10, 2: 20, 3: 30, 4: 40, 5: 50, 6: 60}\n"
      ]
    },
    {
      "cell_type": "code",
      "metadata": {
        "colab": {
          "base_uri": "https://localhost:8080/"
        },
        "id": "_z4aLqAbEET1",
        "outputId": "32d69ef0-3eb8-4cd6-9596-b2efdb723869"
      },
      "source": [
        "# write your answer here\n",
        "\n",
        "dic1={1:10,2:20}\n",
        "dic2={3:30,4:30}\n",
        "dic3={5:50,6:60}\n",
        "dic4={}\n",
        "for i in (dic1,dic2,dic3): \n",
        "  dic4.update(i)\n",
        "print(dic4)"
      ],
      "execution_count": 34,
      "outputs": [
        {
          "output_type": "stream",
          "text": [
            "{1: 10, 2: 20, 3: 30, 4: 30, 5: 50, 6: 60}\n"
          ],
          "name": "stdout"
        }
      ]
    },
    {
      "cell_type": "markdown",
      "metadata": {
        "id": "0v48Vqa7FrQh"
      },
      "source": [
        "(7) Write a Python program to check whether an element exists within a tuple. (3 points)"
      ]
    },
    {
      "cell_type": "code",
      "metadata": {
        "colab": {
          "base_uri": "https://localhost:8080/"
        },
        "id": "7WEmgq-DF2P1",
        "outputId": "4072bd02-a617-4da1-d74e-8c98fe3d24f1"
      },
      "source": [
        "# write your answer here\n",
        "\n",
        "a=input(\"enter values using (,) : \")\n",
        "check=input(\"enter the value to be checked : \")\n",
        "b=tuple(a)\n",
        "\n",
        "if check in b:\n",
        "  print(\"element exists\")\n",
        "else:\n",
        "  print(\"element doesn't exist\")\n",
        "\n"
      ],
      "execution_count": 38,
      "outputs": [
        {
          "output_type": "stream",
          "text": [
            "enter values using (,) : 5,8,9\n",
            "enter the value to be checked : 5\n",
            "element exists\n"
          ],
          "name": "stdout"
        }
      ]
    },
    {
      "cell_type": "markdown",
      "metadata": {
        "id": "vD5PYLMuGga_"
      },
      "source": [
        "(8) Write a Python program to find maximum and the minimum value in a set. (3 points)"
      ]
    },
    {
      "cell_type": "code",
      "metadata": {
        "colab": {
          "base_uri": "https://localhost:8080/"
        },
        "id": "t0D5kdJUGjjw",
        "outputId": "837f3584-4d16-4abd-cf9e-b65615e9d979"
      },
      "source": [
        "# write your answer here\n",
        "set1={10,20,30,40}\n",
        "print(\"minimum is : \", min(set1))\n",
        "print(\"maximum is : \", max(set1))"
      ],
      "execution_count": 39,
      "outputs": [
        {
          "output_type": "stream",
          "text": [
            "minimum is :  10\n",
            "maximum is :  40\n"
          ],
          "name": "stdout"
        }
      ]
    },
    {
      "cell_type": "markdown",
      "metadata": {
        "id": "uHkd-y5VhVWC"
      },
      "source": [
        "(9) Write a Python program to randomly divide the students in this class into five groups for term projects, each group should have at least 3 students but no more than 5 students (including 5). Here is the students list: (3 points for extra)\n",
        "\n",
        "studnet_list = ['vmb0067','pc0353','snd0097','yye0005','sg0940','bk0301','rak0120','rrk0058','spk0057','vl0135','nm0547','pn0159',\n",
        "                'msp0174','dd0420','ds0761','rs0850','ss1995','at0739','at0768','mv0299','tv0119','dy0091']"
      ]
    },
    {
      "cell_type": "code",
      "metadata": {
        "colab": {
          "base_uri": "https://localhost:8080/"
        },
        "id": "3iGbmcOBhTwy",
        "outputId": "ebc614dd-d2d0-4325-c765-e249dcddbc3c"
      },
      "source": [
        "# write your answer here\n",
        "import random\n",
        "student_list = ['vmb0067','pc0353','snd0097','yye0005','sg0940','bk0301','rak0120','rrk0058','spk0057','vl0135','nm0547','pn0159', 'msp0174','dd0420','ds0761','rs0850','ss1995','at0739','at0768','mv0299','tv0119','dy0091']\n",
        "\n",
        "def list1(l):\n",
        "  a=0\n",
        "  for i in l:a=a+1\n",
        "  return a\n",
        "group=[]\n",
        "while list1(student_list)>=5:\n",
        "  random.shuffle(student_list)\n",
        "  group.append(student_list[ :3])\n",
        "  student_list.pop(0)\n",
        "  student_list.pop(0)\n",
        "  student_list.pop(0)\n",
        "group.append(student_list)\n",
        "print(group)\n",
        "\n"
      ],
      "execution_count": 40,
      "outputs": [
        {
          "output_type": "stream",
          "text": [
            "[['sg0940', 'at0768', 'dy0091'], ['snd0097', 'at0739', 'mv0299'], ['vl0135', 'tv0119', 'nm0547'], ['spk0057', 'yye0005', 'rak0120'], ['pc0353', 'rrk0058', 'rs0850'], ['vmb0067', 'msp0174', 'bk0301'], ['pn0159', 'ss1995', 'ds0761', 'dd0420']]\n"
          ],
          "name": "stdout"
        }
      ]
    }
  ]
}