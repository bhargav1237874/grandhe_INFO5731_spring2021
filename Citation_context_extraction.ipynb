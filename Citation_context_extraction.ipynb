{
  "nbformat": 4,
  "nbformat_minor": 0,
  "metadata": {
    "kernelspec": {
      "display_name": "Python 3",
      "language": "python",
      "name": "python3"
    },
    "language_info": {
      "codemirror_mode": {
        "name": "ipython",
        "version": 3
      },
      "file_extension": ".py",
      "mimetype": "text/x-python",
      "name": "python",
      "nbconvert_exporter": "python",
      "pygments_lexer": "ipython3",
      "version": "3.8.3"
    },
    "colab": {
      "name": "Citation context extraction.ipynb",
      "provenance": [],
      "include_colab_link": true
    }
  },
  "cells": [
    {
      "cell_type": "markdown",
      "metadata": {
        "id": "view-in-github",
        "colab_type": "text"
      },
      "source": [
        "<a href=\"https://colab.research.google.com/github/bhargav1237874/grandhe_INFO5731_spring2021/blob/main/Citation_context_extraction.ipynb\" target=\"_parent\"><img src=\"https://colab.research.google.com/assets/colab-badge.svg\" alt=\"Open In Colab\"/></a>"
      ]
    },
    {
      "cell_type": "code",
      "metadata": {
        "id": "ULe7m-G5_Bra"
      },
      "source": [
        "import pandas as pd\n",
        "import pickle\n",
        "from selenium import webdriver\n",
        "import time\n",
        "import requests\n",
        "import os"
      ],
      "execution_count": null,
      "outputs": []
    },
    {
      "cell_type": "markdown",
      "metadata": {
        "id": "6YQJhQDd_Brb"
      },
      "source": [
        "# read the dataset"
      ]
    },
    {
      "cell_type": "markdown",
      "metadata": {
        "id": "jq_BjzuF_Brc"
      },
      "source": [
        "data=pd.read_excel('NLP_dataset_citation_context_edited.xlsx',sheet_name='Sheet2')"
      ]
    },
    {
      "cell_type": "markdown",
      "metadata": {
        "id": "OQSIrB7j_Brc"
      },
      "source": [
        "# read all the links"
      ]
    },
    {
      "cell_type": "markdown",
      "metadata": {
        "id": "ZEkwMHNU_Brc"
      },
      "source": [
        "driver=webdriver.Chrome('chromedriver.exe')\n",
        "all_items={}\n",
        "for link,short_name in zip(data['links'],data['Shortname']):\n",
        "    items={}\n",
        "    driver.get(link)\n",
        "    time.sleep(2)\n",
        "    elem = driver.find_elements_by_css_selector('li.txt-md-sm > a')\n",
        "    for element in elem:\n",
        "        items[element.text]=element.get_attribute('href')    \n",
        "    all_items[short_name]=items"
      ]
    },
    {
      "cell_type": "markdown",
      "metadata": {
        "id": "5M-7rXBi_Brc"
      },
      "source": [
        "# read link content"
      ]
    },
    {
      "cell_type": "markdown",
      "metadata": {
        "id": "H0Cu_9fK_Brd"
      },
      "source": [
        "driver=webdriver.Chrome('chromedriver.exe')\n",
        "\n",
        "for item,value in all_items.items():\n",
        "    for item_child,value_child in value.items():\n",
        "        driver.get(value_child)\n",
        "        time.sleep(2)\n",
        "        info_button=driver.find_element_by_xpath('/html/body/container/div/button')\n",
        "        info_button.click()\n",
        "        try:\n",
        "            element=driver.find_element_by_partial_link_text('https://cite.case.law')\n",
        "            value[item_child]=element.text\n",
        "        except:\n",
        "            value[item_child]=''"
      ]
    },
    {
      "cell_type": "markdown",
      "metadata": {
        "id": "cmWtY7oS_Brd"
      },
      "source": [
        "# create chunk of files to read"
      ]
    },
    {
      "cell_type": "markdown",
      "metadata": {
        "id": "hlX1c_f-_Brd"
      },
      "source": [
        "file = open(\"links.pickle\",'rb')\n",
        "object_file = pickle.load(file)"
      ]
    },
    {
      "cell_type": "markdown",
      "metadata": {
        "id": "ezaL4lBw_Brd"
      },
      "source": [
        "count=0\n",
        "for key,value in object_file.items():\n",
        "    count=count+1\n",
        "    with open(str(count)+'links.pickle', 'wb') as handle:\n",
        "        pickle.dump(value, handle, protocol=pickle.HIGHEST_PROTOCOL)"
      ]
    },
    {
      "cell_type": "code",
      "metadata": {
        "id": "rw-06laD_Bre"
      },
      "source": [
        "file = open(\"links.pickle\",'rb')\n",
        "object_file = pickle.load(file)"
      ],
      "execution_count": null,
      "outputs": []
    },
    {
      "cell_type": "markdown",
      "metadata": {
        "id": "Lf5w1b7O_Bre"
      },
      "source": [
        "# create start of file creation\n"
      ]
    },
    {
      "cell_type": "code",
      "metadata": {
        "id": "oFdVcBbn_Bre"
      },
      "source": [
        "start=0\n",
        "end=12"
      ],
      "execution_count": null,
      "outputs": []
    },
    {
      "cell_type": "code",
      "metadata": {
        "id": "bN29BRby_Bre",
        "outputId": "1a5ae932-218a-436f-e3cd-30dca5d84657"
      },
      "source": [
        "for i in range(start,end+1):\n",
        "    count=0\n",
        "    print('started: '+str(i))\n",
        "    file = open(str(i)+\"links.pickle\",'rb')\n",
        "    object_file = pickle.load(file)\n",
        "    object_file_copy=object_file.copy()\n",
        "    print(object_file)\n",
        "    driver=webdriver.Chrome('chromedriver.exe')\n",
        "    for item_child,value_child in object_file.items():\n",
        "        count=count+1\n",
        "        if count<10:\n",
        "            try:\n",
        "                driver.get(value_child)\n",
        "                time.sleep(5)\n",
        "                object_file_copy[item_child]=driver.find_element_by_class_name('main-content').text\n",
        "            except:\n",
        "                object_file_copy[item_child]=''\n",
        "        else:\n",
        "            object_file_copy[item_child]=''\n",
        "    if len(set(list(object_file_copy.values())))>1:\n",
        "        with open(str(i)+'scapped_data.pickle', 'wb') as handle:\n",
        "            pickle.dump(object_file_copy, handle, protocol=pickle.HIGHEST_PROTOCOL)\n",
        "    else:\n",
        "        print('stopped at: '+str(i))\n",
        "        time.sleep(600)\n",
        "    "
      ],
      "execution_count": null,
      "outputs": [
        {
          "output_type": "stream",
          "text": [
            "started: 8\n",
            "{'Naylor’s Administrator v. Moffatt': 'https://cite.case.law/mo/29/126/', 'Arambula v. Atwell': 'https://cite.case.law/sw2d/948/173/', 'Graham v. Ozark Mountain Sightseeing, Inc.': 'https://cite.case.law/f3d/181/924/', 'Singer v. Siedband': 'https://cite.case.law/sw3d/138/750/9224593/', 'Mikesic v. Trinity Lutheran Hosp.': 'https://cite.case.law/sw2d/980/68/'}\n",
            "stopped at: 8\n",
            "started: 9\n",
            "{'Posey v. Com.': 'https://cite.case.law/sw3d/185/170/', 'Roberts ex rel. Inmates of California State Prison for Men v. State of California Department of Corrections': 'https://cite.case.law/f2d/183/580/', 'Austin v. United States': 'https://cite.case.law/f-supp/40/777/', 'State ex rel. Folsom Bros. v. Mayor of New Orleans': 'https://cite.case.law/la-ann/32/709/', 'Barringtons v. Logan’s Administrators': 'https://cite.case.law/ky/32/432/', 'State v. Claiborne': 'https://cite.case.law/tenn/19/331/', 'Marshall v. Donovan': 'https://cite.case.law/ky/73/681/', 'Hall v. United States': 'https://cite.case.law/ct-cl/11/197/7649960/', 'Wood v. Ward': 'https://cite.case.law/tenn-cas/3/58/', 'McAffee v. Covington': 'https://cite.case.law/colo-l-rep/4/646/', 'Morris v. Powell': 'https://cite.case.law/ind/125/281/', 'Pope v. Williams': 'https://cite.case.law/us/193/621/', 'Cofield v. Farrell': 'https://cite.case.law/okla/38/608/'}\n",
            "started: 10\n",
            "{'Alvarez v. Coleman': 'https://cite.case.law/so-2d/642/361/', 'Minter v. Shirley': 'https://cite.case.law/miss/45/376/', 'Williams v. Vreeland': 'https://cite.case.law/nj-eq/32/135/', 'Fisk v. Stewart': 'https://cite.case.law/minn/26/365/', 'Coker v. Lewis': 'https://cite.case.law/miss/135/118/', 'Sumner v. Crane': 'https://cite.case.law/mass/155/483/', 'Weinstein v. Sea View, Inc.': 'https://cite.case.law/f2d/188/116/', 'Sadler v. Lee': 'https://cite.case.law/miss/232/349/', 'Tippin v. Coleman': 'https://cite.case.law/miss/61/516/', 'Ralston v. McBurney': 'https://cite.case.law/ohio-app/6/303/', 'Brockett v. Richardson': 'https://cite.case.law/miss/61/766/', 'Clarke v. Goodrum': 'https://cite.case.law/miss/61/731/', 'Wooldrige v. Campbell': 'https://cite.case.law/miss/61/634/', 'Price v. Craig': 'https://cite.case.law/miss/164/42/', 'Saulsberry v. Saulsberry': 'https://cite.case.law/miss/223/684/', 'Fuqua v. Mills': 'https://cite.case.law/miss/221/436/', 'Blacketor v. Cartee': 'https://cite.case.law/so/161/696/10065830/', 'Wells v. Brooks': 'https://cite.case.law/miss/199/327/', 'Johnston v. Tomme': 'https://cite.case.law/miss/199/337/', 'Huffine v. Lincoln': 'https://cite.case.law/mont/52/585/', 'Council v. United States': 'https://cite.case.law/f-supp/302/1315/', 'Sloniger v. Sloniger': 'https://cite.case.law/ill/161/270/', 'Hood v. Johnston': 'https://cite.case.law/ala/210/617/', 'Holmes v. Tennant': 'https://cite.case.law/sw/231/313/', 'Camden v. Alkire': 'https://cite.case.law/w-va/24/674/', 'Denson v. Denson': 'https://cite.case.law/miss/203/146/', 'Tigner v. McGehee': 'https://cite.case.law/miss/60/185/', 'Traweek v. Kelly': 'https://cite.case.law/miss/60/652/', 'Nelson v. Schoonover': 'https://cite.case.law/kan/89/388/', 'Estate of McKellar v. Brown': 'https://cite.case.law/so-2d/404/550/', 'Monroe v. Holleman': 'https://cite.case.law/so-2d/185/443/', 'Gaines v. Kennedy': 'https://cite.case.law/miss/53/103/', 'Barkwell v. Swan': 'https://cite.case.law/miss/69/907/', 'Thompson v. Wiggenhorn': 'https://cite.case.law/neb/34/723/', 'Hiserodt v. Hamlett': 'https://cite.case.law/miss/74/37/', 'Hebron v. Kelly': 'https://cite.case.law/miss/75/74/', 'Higgins v. Haberstraw': 'https://cite.case.law/miss/76/627/', 'Stauffer v. British & American Mortgage Co.': 'https://cite.case.law/miss/77/127/', 'Leflore County v. Allen': 'https://cite.case.law/miss/80/298/'}\n",
            "started: 11\n",
            "{'Andrews v. Avory': 'https://cite.case.law/va/55/229/945931/', 'Bartee v. Vitocruz': ''}\n",
            "stopped at: 11\n",
            "started: 12\n",
            "{'Bannister v. Al Coleman Motors, Inc.': '', 'Bryant v. Whitcher': 'https://cite.case.law/nh/52/158/', 'Pool v. George': 'https://cite.case.law/tenn-app/30/608/', 'Gage v. Epperson': 'https://cite.case.law/tenn/39/669/', 'Lazell v. Powell': 'https://cite.case.law/unrep-tenn-cas/1/195/', 'Taylor v. Pope': 'https://cite.case.law/tenn/45/413/', 'Meador v. Meador': 'https://cite.case.law/tenn/50/562/', 'Hawkins v. Davis': 'https://cite.case.law/tenn/67/506/', 'Harris v. Gaines': 'https://cite.case.law/tenn/70/12/', 'Fourth National Bank v. St. Louis Cotton Compress Co.': 'https://cite.case.law/mo-app/11/333/', 'Anderson v. Ammonett': 'https://cite.case.law/tenn/77/1/', 'Andrews v. Cox': 'https://cite.case.law/ark/42/473/', 'Sanders v. Logue': 'https://cite.case.law/tenn/88/355/', 'Atlanta Guano Co. v. Hunt': 'https://cite.case.law/tenn/100/89/', 'Lambert v. Nicklass': 'https://cite.case.law/w-va/45/527/', 'Dillard & Coffin Co. v. Smith': 'https://cite.case.law/tenn/105/372/', 'Bush v. Export Storage Co.': 'https://cite.case.law/f/136/918/', 'National Bank of Commerce v. Chatfield': 'https://cite.case.law/tenn/118/481/', 'Nance v. Piano Co.': 'https://cite.case.law/tenn/128/1/', 'Ironton Garage Co. v. McKee': 'https://cite.case.law/ohio-nisi-prius-ns/20/251/', 'Jones v. Ironton Garage Co.': 'https://cite.case.law/ohio-app/9/431/', 'Robertson v. Wade': 'https://cite.case.law/tenn-app/17/457/', 'Griffiths v. Hamblen Nat. Bank': 'https://cite.case.law/tenn-app/19/331/'}\n",
            "started: 13\n"
          ],
          "name": "stdout"
        },
        {
          "output_type": "error",
          "ename": "AttributeError",
          "evalue": "'str' object has no attribute 'copy'",
          "traceback": [
            "\u001b[1;31m---------------------------------------------------------------------------\u001b[0m",
            "\u001b[1;31mAttributeError\u001b[0m                            Traceback (most recent call last)",
            "\u001b[1;32m<ipython-input-3-8f09482e21f5>\u001b[0m in \u001b[0;36m<module>\u001b[1;34m\u001b[0m\n\u001b[0;32m      4\u001b[0m     \u001b[0mfile\u001b[0m \u001b[1;33m=\u001b[0m \u001b[0mopen\u001b[0m\u001b[1;33m(\u001b[0m\u001b[0mstr\u001b[0m\u001b[1;33m(\u001b[0m\u001b[0mi\u001b[0m\u001b[1;33m)\u001b[0m\u001b[1;33m+\u001b[0m\u001b[1;34m\"links.pickle\"\u001b[0m\u001b[1;33m,\u001b[0m\u001b[1;34m'rb'\u001b[0m\u001b[1;33m)\u001b[0m\u001b[1;33m\u001b[0m\u001b[1;33m\u001b[0m\u001b[0m\n\u001b[0;32m      5\u001b[0m     \u001b[0mobject_file\u001b[0m \u001b[1;33m=\u001b[0m \u001b[0mpickle\u001b[0m\u001b[1;33m.\u001b[0m\u001b[0mload\u001b[0m\u001b[1;33m(\u001b[0m\u001b[0mfile\u001b[0m\u001b[1;33m)\u001b[0m\u001b[1;33m\u001b[0m\u001b[1;33m\u001b[0m\u001b[0m\n\u001b[1;32m----> 6\u001b[1;33m     \u001b[0mobject_file_copy\u001b[0m\u001b[1;33m=\u001b[0m\u001b[0mobject_file\u001b[0m\u001b[1;33m.\u001b[0m\u001b[0mcopy\u001b[0m\u001b[1;33m(\u001b[0m\u001b[1;33m)\u001b[0m\u001b[1;33m\u001b[0m\u001b[1;33m\u001b[0m\u001b[0m\n\u001b[0m\u001b[0;32m      7\u001b[0m     \u001b[0mprint\u001b[0m\u001b[1;33m(\u001b[0m\u001b[0mobject_file\u001b[0m\u001b[1;33m)\u001b[0m\u001b[1;33m\u001b[0m\u001b[1;33m\u001b[0m\u001b[0m\n\u001b[0;32m      8\u001b[0m     \u001b[0mdriver\u001b[0m\u001b[1;33m=\u001b[0m\u001b[0mwebdriver\u001b[0m\u001b[1;33m.\u001b[0m\u001b[0mChrome\u001b[0m\u001b[1;33m(\u001b[0m\u001b[1;34m'chromedriver.exe'\u001b[0m\u001b[1;33m)\u001b[0m\u001b[1;33m\u001b[0m\u001b[1;33m\u001b[0m\u001b[0m\n",
            "\u001b[1;31mAttributeError\u001b[0m: 'str' object has no attribute 'copy'"
          ]
        }
      ]
    },
    {
      "cell_type": "markdown",
      "metadata": {
        "id": "oJYiP3Sc_Brf"
      },
      "source": [
        "# collating all the files"
      ]
    },
    {
      "cell_type": "code",
      "metadata": {
        "id": "XFd7JqWf_Brf"
      },
      "source": [
        "all_data=[]\n",
        "for i in range(start,end+1):\n",
        "    try:\n",
        "        file = open(str(i)+\"scapped_data.pickle\",'rb')\n",
        "        object_file = pickle.load(file)\n",
        "    except:\n",
        "        pass\n",
        "    data=(pd.DataFrame.from_dict(object_file,orient='index'))\n",
        "    all_data.append(data)\n",
        "pd.concat(all_data).to_excel('scrapped_data.xlsx')"
      ],
      "execution_count": null,
      "outputs": []
    },
    {
      "cell_type": "code",
      "metadata": {
        "id": "YTd-L8yD_Brf"
      },
      "source": [
        "all_data=pd.read_excel('scrapped_data.xlsx')"
      ],
      "execution_count": null,
      "outputs": []
    },
    {
      "cell_type": "code",
      "metadata": {
        "id": "ohbOqNpz_Brf"
      },
      "source": [
        "all_data.rename(columns={'Unnamed: 0':'col_1',0:'col_2'},inplace=True)"
      ],
      "execution_count": null,
      "outputs": []
    },
    {
      "cell_type": "code",
      "metadata": {
        "id": "k_Ig2GwS_Brf"
      },
      "source": [
        "all_data=all_data.dropna()"
      ],
      "execution_count": null,
      "outputs": []
    },
    {
      "cell_type": "code",
      "metadata": {
        "id": "BSEh3Oor_Brf",
        "outputId": "3b38055d-c2a0-4222-8b8e-3b0428b7aad1"
      },
      "source": [
        "all_data"
      ],
      "execution_count": null,
      "outputs": [
        {
          "output_type": "execute_result",
          "data": {
            "text/html": [
              "<div>\n",
              "<style scoped>\n",
              "    .dataframe tbody tr th:only-of-type {\n",
              "        vertical-align: middle;\n",
              "    }\n",
              "\n",
              "    .dataframe tbody tr th {\n",
              "        vertical-align: top;\n",
              "    }\n",
              "\n",
              "    .dataframe thead th {\n",
              "        text-align: right;\n",
              "    }\n",
              "</style>\n",
              "<table border=\"1\" class=\"dataframe\">\n",
              "  <thead>\n",
              "    <tr style=\"text-align: right;\">\n",
              "      <th></th>\n",
              "      <th>col_1</th>\n",
              "      <th>col_2</th>\n",
              "    </tr>\n",
              "  </thead>\n",
              "  <tbody>\n",
              "    <tr>\n",
              "      <th>1</th>\n",
              "      <td>Bryant v. Whitcher</td>\n",
              "      <td>Bryant v. Whitcher, 52 N.H. 158 (1872)\\nJuly 1...</td>\n",
              "    </tr>\n",
              "    <tr>\n",
              "      <th>2</th>\n",
              "      <td>Pool v. George</td>\n",
              "      <td>Pool v. George, 30 Tenn. App. 608, 209 S.W.2d ...</td>\n",
              "    </tr>\n",
              "    <tr>\n",
              "      <th>3</th>\n",
              "      <td>Gage v. Epperson</td>\n",
              "      <td>Gage v. Epperson, 39 Tenn. 669, 2 Head 669 (18...</td>\n",
              "    </tr>\n",
              "    <tr>\n",
              "      <th>4</th>\n",
              "      <td>Lazell v. Powell</td>\n",
              "      <td>Lazell v. Powell, 1 Unrep. Tenn. Cas. 195 (185...</td>\n",
              "    </tr>\n",
              "    <tr>\n",
              "      <th>5</th>\n",
              "      <td>Taylor v. Pope</td>\n",
              "      <td>Taylor v. Pope, 45 Tenn. 413, 5 Cold. 413 (186...</td>\n",
              "    </tr>\n",
              "    <tr>\n",
              "      <th>...</th>\n",
              "      <td>...</td>\n",
              "      <td>...</td>\n",
              "    </tr>\n",
              "    <tr>\n",
              "      <th>291</th>\n",
              "      <td>Lazell v. Powell</td>\n",
              "      <td>Lazell v. Powell, 1 Unrep. Tenn. Cas. 195 (185...</td>\n",
              "    </tr>\n",
              "    <tr>\n",
              "      <th>292</th>\n",
              "      <td>Taylor v. Pope</td>\n",
              "      <td>Taylor v. Pope, 45 Tenn. 413, 5 Cold. 413 (186...</td>\n",
              "    </tr>\n",
              "    <tr>\n",
              "      <th>293</th>\n",
              "      <td>Meador v. Meador</td>\n",
              "      <td>Meador v. Meador, 50 Tenn. 562, 3 Heisk. 562 (...</td>\n",
              "    </tr>\n",
              "    <tr>\n",
              "      <th>294</th>\n",
              "      <td>Hawkins v. Davis</td>\n",
              "      <td>Hawkins v. Davis, 67 Tenn. 506 (1875)\\nDec. 18...</td>\n",
              "    </tr>\n",
              "    <tr>\n",
              "      <th>295</th>\n",
              "      <td>Harris v. Gaines</td>\n",
              "      <td>Harris v. Gaines, 70 Tenn. 12 (1878)\\nDec. 187...</td>\n",
              "    </tr>\n",
              "  </tbody>\n",
              "</table>\n",
              "<p>133 rows × 2 columns</p>\n",
              "</div>"
            ],
            "text/plain": [
              "                  col_1                                              col_2\n",
              "1    Bryant v. Whitcher  Bryant v. Whitcher, 52 N.H. 158 (1872)\\nJuly 1...\n",
              "2        Pool v. George  Pool v. George, 30 Tenn. App. 608, 209 S.W.2d ...\n",
              "3      Gage v. Epperson  Gage v. Epperson, 39 Tenn. 669, 2 Head 669 (18...\n",
              "4      Lazell v. Powell  Lazell v. Powell, 1 Unrep. Tenn. Cas. 195 (185...\n",
              "5        Taylor v. Pope  Taylor v. Pope, 45 Tenn. 413, 5 Cold. 413 (186...\n",
              "..                  ...                                                ...\n",
              "291    Lazell v. Powell  Lazell v. Powell, 1 Unrep. Tenn. Cas. 195 (185...\n",
              "292      Taylor v. Pope  Taylor v. Pope, 45 Tenn. 413, 5 Cold. 413 (186...\n",
              "293    Meador v. Meador  Meador v. Meador, 50 Tenn. 562, 3 Heisk. 562 (...\n",
              "294    Hawkins v. Davis  Hawkins v. Davis, 67 Tenn. 506 (1875)\\nDec. 18...\n",
              "295    Harris v. Gaines  Harris v. Gaines, 70 Tenn. 12 (1878)\\nDec. 187...\n",
              "\n",
              "[133 rows x 2 columns]"
            ]
          },
          "metadata": {
            "tags": []
          },
          "execution_count": 55
        }
      ]
    },
    {
      "cell_type": "code",
      "metadata": {
        "id": "gNEi9PHm_Brg"
      },
      "source": [
        "file = open(\"links.pickle\",'rb')\n",
        "object_file = pickle.load(file)"
      ],
      "execution_count": null,
      "outputs": []
    },
    {
      "cell_type": "code",
      "metadata": {
        "id": "PyGmiBRy_Brg"
      },
      "source": [
        "all_dataframe=[]\n",
        "for key,value in object_file.items():\n",
        "    all_items=[]\n",
        "    for item_key,item_value in value.items():\n",
        "        all_items.append(item_key)\n",
        "    data=pd.DataFrame(all_items)\n",
        "    data['col_3']=key\n",
        "    all_dataframe.append(data)\n",
        "    data.rename(columns={0:'col_1'},inplace=True)\n",
        "final_data=pd.concat(all_dataframe)"
      ],
      "execution_count": null,
      "outputs": []
    },
    {
      "cell_type": "code",
      "metadata": {
        "id": "x5REYfFy_Brg",
        "outputId": "c82baf23-cd58-4f9f-968d-ce693fd3d27d"
      },
      "source": [
        "final_data"
      ],
      "execution_count": null,
      "outputs": [
        {
          "output_type": "execute_result",
          "data": {
            "text/html": [
              "<div>\n",
              "<style scoped>\n",
              "    .dataframe tbody tr th:only-of-type {\n",
              "        vertical-align: middle;\n",
              "    }\n",
              "\n",
              "    .dataframe tbody tr th {\n",
              "        vertical-align: top;\n",
              "    }\n",
              "\n",
              "    .dataframe thead th {\n",
              "        text-align: right;\n",
              "    }\n",
              "</style>\n",
              "<table border=\"1\" class=\"dataframe\">\n",
              "  <thead>\n",
              "    <tr style=\"text-align: right;\">\n",
              "      <th></th>\n",
              "      <th>col_1</th>\n",
              "      <th>col_3</th>\n",
              "    </tr>\n",
              "  </thead>\n",
              "  <tbody>\n",
              "    <tr>\n",
              "      <th>0</th>\n",
              "      <td>Davis v. State</td>\n",
              "      <td>Ables v. Donley</td>\n",
              "    </tr>\n",
              "    <tr>\n",
              "      <th>1</th>\n",
              "      <td>Ray v. Anesthesia Assocs. of Mobile, P.C.</td>\n",
              "      <td>Ables v. Donley</td>\n",
              "    </tr>\n",
              "    <tr>\n",
              "      <th>2</th>\n",
              "      <td>Lampsen v. Brander</td>\n",
              "      <td>Ables v. Donley</td>\n",
              "    </tr>\n",
              "    <tr>\n",
              "      <th>3</th>\n",
              "      <td>G. H. &amp; S. A. R’y Co. v. Marsden</td>\n",
              "      <td>Ables v. Donley</td>\n",
              "    </tr>\n",
              "    <tr>\n",
              "      <th>4</th>\n",
              "      <td>Faulkner v. Territory</td>\n",
              "      <td>Ables v. Donley</td>\n",
              "    </tr>\n",
              "    <tr>\n",
              "      <th>...</th>\n",
              "      <td>...</td>\n",
              "      <td>...</td>\n",
              "    </tr>\n",
              "    <tr>\n",
              "      <th>18</th>\n",
              "      <td>Nance v. Piano Co.</td>\n",
              "      <td>Arendale v. Samuel D. Morgan &amp; Co.</td>\n",
              "    </tr>\n",
              "    <tr>\n",
              "      <th>19</th>\n",
              "      <td>Ironton Garage Co. v. McKee</td>\n",
              "      <td>Arendale v. Samuel D. Morgan &amp; Co.</td>\n",
              "    </tr>\n",
              "    <tr>\n",
              "      <th>20</th>\n",
              "      <td>Jones v. Ironton Garage Co.</td>\n",
              "      <td>Arendale v. Samuel D. Morgan &amp; Co.</td>\n",
              "    </tr>\n",
              "    <tr>\n",
              "      <th>21</th>\n",
              "      <td>Robertson v. Wade</td>\n",
              "      <td>Arendale v. Samuel D. Morgan &amp; Co.</td>\n",
              "    </tr>\n",
              "    <tr>\n",
              "      <th>22</th>\n",
              "      <td>Griffiths v. Hamblen Nat. Bank</td>\n",
              "      <td>Arendale v. Samuel D. Morgan &amp; Co.</td>\n",
              "    </tr>\n",
              "  </tbody>\n",
              "</table>\n",
              "<p>250 rows × 2 columns</p>\n",
              "</div>"
            ],
            "text/plain": [
              "                                        col_1  \\\n",
              "0                              Davis v. State   \n",
              "1   Ray v. Anesthesia Assocs. of Mobile, P.C.   \n",
              "2                          Lampsen v. Brander   \n",
              "3            G. H. & S. A. R’y Co. v. Marsden   \n",
              "4                       Faulkner v. Territory   \n",
              "..                                        ...   \n",
              "18                         Nance v. Piano Co.   \n",
              "19                Ironton Garage Co. v. McKee   \n",
              "20                Jones v. Ironton Garage Co.   \n",
              "21                          Robertson v. Wade   \n",
              "22             Griffiths v. Hamblen Nat. Bank   \n",
              "\n",
              "                                 col_3  \n",
              "0                      Ables v. Donley  \n",
              "1                      Ables v. Donley  \n",
              "2                      Ables v. Donley  \n",
              "3                      Ables v. Donley  \n",
              "4                      Ables v. Donley  \n",
              "..                                 ...  \n",
              "18  Arendale v. Samuel D. Morgan & Co.  \n",
              "19  Arendale v. Samuel D. Morgan & Co.  \n",
              "20  Arendale v. Samuel D. Morgan & Co.  \n",
              "21  Arendale v. Samuel D. Morgan & Co.  \n",
              "22  Arendale v. Samuel D. Morgan & Co.  \n",
              "\n",
              "[250 rows x 2 columns]"
            ]
          },
          "metadata": {
            "tags": []
          },
          "execution_count": 118
        }
      ]
    },
    {
      "cell_type": "code",
      "metadata": {
        "id": "rtWzz6Jh_Brh"
      },
      "source": [
        "merged_data=pd.merge(all_data,final_data,how='right')"
      ],
      "execution_count": null,
      "outputs": []
    },
    {
      "cell_type": "code",
      "metadata": {
        "id": "kII1thnc_Brh"
      },
      "source": [
        "merged_data['col_5']=merged_data['col_2'].apply(lambda x:str(x).split('\\n'))"
      ],
      "execution_count": null,
      "outputs": []
    },
    {
      "cell_type": "code",
      "metadata": {
        "id": "keXDxG-D_Brh"
      },
      "source": [
        "def string_bool(list_all,item):\n",
        "    for each_item in list_all:\n",
        "        if item in each_item:\n",
        "            return (True,each_item)\n",
        "    return (False,'')"
      ],
      "execution_count": null,
      "outputs": []
    },
    {
      "cell_type": "code",
      "metadata": {
        "id": "t0M3FdT4_Brh"
      },
      "source": [
        "merged_data['col_4']=merged_data.apply(lambda x:string_bool(x['col_5'],x['col_3']),axis=1)"
      ],
      "execution_count": null,
      "outputs": []
    },
    {
      "cell_type": "code",
      "metadata": {
        "id": "kdx9EWoi_Bri"
      },
      "source": [
        "merged_data['col_6']=merged_data['col_4'].apply(lambda x:x[0])\n",
        "merged_data['col_7']=merged_data['col_4'].apply(lambda x:x[1])"
      ],
      "execution_count": null,
      "outputs": []
    },
    {
      "cell_type": "code",
      "metadata": {
        "id": "5I6eTG-B_Bri"
      },
      "source": [
        "merged_data.drop(columns=['col_4','col_5'],inplace=True)"
      ],
      "execution_count": null,
      "outputs": []
    },
    {
      "cell_type": "code",
      "metadata": {
        "id": "7LfYQKW6_Bri"
      },
      "source": [
        "merged_data.to_excel('final_output.xlsx')"
      ],
      "execution_count": null,
      "outputs": []
    },
    {
      "cell_type": "markdown",
      "metadata": {
        "id": "uDdG5krT_Bri"
      },
      "source": [
        "## to get all the link text at once "
      ]
    },
    {
      "cell_type": "markdown",
      "metadata": {
        "id": "3OPHd7Fx_Bri"
      },
      "source": [
        "with open('links.pickle', 'wb') as handle:\n",
        "    pickle.dump(all_items, handle, protocol=pickle.HIGHEST_PROTOCOL)"
      ]
    },
    {
      "cell_type": "markdown",
      "metadata": {
        "id": "p07ID-Dq_Bri"
      },
      "source": [
        "all_items"
      ]
    },
    {
      "cell_type": "markdown",
      "metadata": {
        "id": "WzUf2Vba_Brj"
      },
      "source": [
        "file = open(\"links.pickle\",'rb')\n",
        "object_file = pickle.load(file)"
      ]
    },
    {
      "cell_type": "markdown",
      "metadata": {
        "id": "rwGaH1YO_Brj"
      },
      "source": [
        "driver=webdriver.Chrome('chromedriver.exe')\n",
        "for item,value in object_file.items():\n",
        "    for item_child,value_child in value.items():\n",
        "        try:\n",
        "            driver.get(value_child)\n",
        "            time.sleep(5)\n",
        "            value[item_child]=driver.find_element_by_class_name('main-content').text\n",
        "        except:\n",
        "            value[item_child]=''"
      ]
    },
    {
      "cell_type": "markdown",
      "metadata": {
        "id": "9XuSMjzq_Brj"
      },
      "source": [
        "with open('scapped_data.pickle', 'wb') as handle:\n",
        "    pickle.dump(object_file, handle, protocol=pickle.HIGHEST_PROTOCOL)"
      ]
    },
    {
      "cell_type": "markdown",
      "metadata": {
        "id": "izKkRtx7_Brj"
      },
      "source": [
        "file = open(\"scapped_data.pickle\",'rb')\n",
        "scarpped_file = pickle.load(file)"
      ]
    }
  ]
}